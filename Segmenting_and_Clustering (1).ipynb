{
 "cells": [
  {
   "cell_type": "markdown",
   "metadata": {},
   "source": [
    "# Segmenting and Clustering Neighborhoods in Toronto"
   ]
  },
  {
   "cell_type": "markdown",
   "metadata": {},
   "source": [
    "First we install Beautiful Soup 4 and the lxml parser:"
   ]
  },
  {
   "cell_type": "code",
   "execution_count": 3,
   "metadata": {},
   "outputs": [
    {
     "name": "stdout",
     "output_type": "stream",
     "text": [
      "Collecting package metadata: done\n",
      "Solving environment: done\n",
      "\n",
      "## Package Plan ##\n",
      "\n",
      "  environment location: /home/jupyterlab/conda\n",
      "\n",
      "  added / updated specs:\n",
      "    - beautifulsoup4\n",
      "\n",
      "\n",
      "The following packages will be downloaded:\n",
      "\n",
      "    package                    |            build\n",
      "    ---------------------------|-----------------\n",
      "    beautifulsoup4-4.7.1       |        py36_1001         140 KB  conda-forge\n",
      "    conda-4.6.7                |           py36_0         869 KB  conda-forge\n",
      "    openssl-1.1.1b             |       h14c3975_0         4.0 MB  conda-forge\n",
      "    ------------------------------------------------------------\n",
      "                                           Total:         5.0 MB\n",
      "\n",
      "The following packages will be UPDATED:\n",
      "\n",
      "  beautifulsoup4      anaconda::beautifulsoup4-4.7.1-py36_1 --> conda-forge::beautifulsoup4-4.7.1-py36_1001\n",
      "  conda                                        4.6.4-py36_0 --> 4.6.7-py36_0\n",
      "  openssl                              1.1.1a-h14c3975_1000 --> 1.1.1b-h14c3975_0\n",
      "\n",
      "\n",
      "\n",
      "Downloading and Extracting Packages\n",
      "beautifulsoup4-4.7.1 | 140 KB    | ##################################### | 100% \n",
      "conda-4.6.7          | 869 KB    | ##################################### | 100% \n",
      "openssl-1.1.1b       | 4.0 MB    | ##################################### | 100% \n",
      "Preparing transaction: done\n",
      "Verifying transaction: done\n",
      "Executing transaction: done\n"
     ]
    }
   ],
   "source": [
    "!conda install -c conda-forge beautifulsoup4 -y"
   ]
  },
  {
   "cell_type": "code",
   "execution_count": 5,
   "metadata": {},
   "outputs": [
    {
     "name": "stdout",
     "output_type": "stream",
     "text": [
      "Collecting package metadata: done\n",
      "Solving environment: done\n",
      "\n",
      "## Package Plan ##\n",
      "\n",
      "  environment location: /home/jupyterlab/conda\n",
      "\n",
      "  added / updated specs:\n",
      "    - lxml\n",
      "\n",
      "\n",
      "The following packages will be downloaded:\n",
      "\n",
      "    package                    |            build\n",
      "    ---------------------------|-----------------\n",
      "    conda-4.6.7                |           py36_0         869 KB  conda-forge\n",
      "    lxml-4.3.2                 |   py36h23eabaa_0         1.5 MB  conda-forge\n",
      "    openssl-1.1.1b             |       h14c3975_0         4.0 MB  conda-forge\n",
      "    ------------------------------------------------------------\n",
      "                                           Total:         6.3 MB\n",
      "\n",
      "The following packages will be UPDATED:\n",
      "\n",
      "  conda                                        4.6.4-py36_0 --> 4.6.7-py36_0\n",
      "  lxml                  anaconda::lxml-4.3.0-py36hefd8a0e_0 --> conda-forge::lxml-4.3.2-py36h23eabaa_0\n",
      "  openssl                              1.1.1a-h14c3975_1000 --> 1.1.1b-h14c3975_0\n",
      "\n",
      "\n",
      "\n",
      "Downloading and Extracting Packages\n",
      "lxml-4.3.2           | 1.5 MB    | ##################################### | 100% \n",
      "conda-4.6.7          | 869 KB    | ##################################### | 100% \n",
      "openssl-1.1.1b       | 4.0 MB    | ##################################### | 100% \n",
      "Preparing transaction: done\n",
      "Verifying transaction: done\n",
      "Executing transaction: done\n"
     ]
    }
   ],
   "source": [
    "!conda install -c conda-forge lxml -y"
   ]
  },
  {
   "cell_type": "markdown",
   "metadata": {},
   "source": [
    "Next import necessary packages:"
   ]
  },
  {
   "cell_type": "code",
   "execution_count": 24,
   "metadata": {},
   "outputs": [],
   "source": [
    "from bs4 import BeautifulSoup as bs\n",
    "import requests\n",
    "import csv\n",
    "import pandas as pd"
   ]
  },
  {
   "cell_type": "code",
   "execution_count": 25,
   "metadata": {},
   "outputs": [],
   "source": [
    "source = requests.get('https://en.wikipedia.org/wiki/List_of_postal_codes_of_Canada:_M').text #fetches the webpage as a text file"
   ]
  },
  {
   "cell_type": "markdown",
   "metadata": {},
   "source": [
    "In the following cell we scrape the webpage into a csv file with the necessary parameters:"
   ]
  },
  {
   "cell_type": "code",
   "execution_count": 26,
   "metadata": {},
   "outputs": [],
   "source": [
    "soup = bs(source, 'lxml') \n",
    "table = soup.find('table') # finds the table to exclude other unwanted html\n",
    "csv_file = open('tps_scrape.csv', 'w') #creates a csv file\n",
    "csv_writer = csv.writer(csv_file)\n",
    "csv_writer.writerow(['Postcode', 'Borough', 'Neighbourhood']) #name of the columns in our csv file\n",
    "for row in table.find_all('tr'): #this loops through each row in the table\n",
    "    prevro = ro\n",
    "    ro = []\n",
    "    for entry in row.find_all('td'): #loops through each entry in the row\n",
    "        ro.append(entry.text)\n",
    "    if len(ro) and len(prevro) != 0: # this excludes the first list which has length zero\n",
    "        new = ro[2].replace(\"\\n\", \"\") #fixes the format\n",
    "        ro[2] = new\n",
    "        if ro[2] == 'Not assigned': # assigns the borough as the neighborhood for those with 'not assigned' neighborhood\n",
    "            ro[2] = ro[1]\n",
    "        if prevro[0] == ro[0]: # checks if the previous row is identical to the current row then combines the neighborhoods if they are \n",
    "            ro = [ro[0], ro[1], prevro[2] + ', ' + ro[2]]\n",
    "        if ro[1] and prevro[1] != 'Not assigned': #this logic excludes unaasigned postcodes and writes the previous row to a csv file\n",
    "            if ro[0] != prevro[0]:\n",
    "                csv_writer.writerow(prevro) #note that this code would not print the last line of the table, but in this case we don't need to fix that since the last postcode is unassigned\n",
    "csv_file.close()"
   ]
  },
  {
   "cell_type": "markdown",
   "metadata": {},
   "source": [
    "Assign the data to a Pandas DataFrame and find the shape:"
   ]
  },
  {
   "cell_type": "code",
   "execution_count": 32,
   "metadata": {},
   "outputs": [
    {
     "data": {
      "text/html": [
       "<div>\n",
       "<style scoped>\n",
       "    .dataframe tbody tr th:only-of-type {\n",
       "        vertical-align: middle;\n",
       "    }\n",
       "\n",
       "    .dataframe tbody tr th {\n",
       "        vertical-align: top;\n",
       "    }\n",
       "\n",
       "    .dataframe thead th {\n",
       "        text-align: right;\n",
       "    }\n",
       "</style>\n",
       "<table border=\"1\" class=\"dataframe\">\n",
       "  <thead>\n",
       "    <tr style=\"text-align: right;\">\n",
       "      <th></th>\n",
       "      <th>Postcode</th>\n",
       "      <th>Borough</th>\n",
       "      <th>Neighbourhood</th>\n",
       "    </tr>\n",
       "  </thead>\n",
       "  <tbody>\n",
       "    <tr>\n",
       "      <th>0</th>\n",
       "      <td>M3A</td>\n",
       "      <td>North York</td>\n",
       "      <td>Parkwoods</td>\n",
       "    </tr>\n",
       "    <tr>\n",
       "      <th>1</th>\n",
       "      <td>M4A</td>\n",
       "      <td>North York</td>\n",
       "      <td>Victoria Village</td>\n",
       "    </tr>\n",
       "    <tr>\n",
       "      <th>2</th>\n",
       "      <td>M5A</td>\n",
       "      <td>Downtown Toronto</td>\n",
       "      <td>Harbourfront, Regent Park</td>\n",
       "    </tr>\n",
       "    <tr>\n",
       "      <th>3</th>\n",
       "      <td>M6A</td>\n",
       "      <td>North York</td>\n",
       "      <td>Lawrence Heights, Lawrence Manor</td>\n",
       "    </tr>\n",
       "    <tr>\n",
       "      <th>4</th>\n",
       "      <td>M7A</td>\n",
       "      <td>Queen's Park</td>\n",
       "      <td>Queen's Park</td>\n",
       "    </tr>\n",
       "  </tbody>\n",
       "</table>\n",
       "</div>"
      ],
      "text/plain": [
       "  Postcode           Borough                     Neighbourhood\n",
       "0      M3A        North York                         Parkwoods\n",
       "1      M4A        North York                  Victoria Village\n",
       "2      M5A  Downtown Toronto         Harbourfront, Regent Park\n",
       "3      M6A        North York  Lawrence Heights, Lawrence Manor\n",
       "4      M7A      Queen's Park                      Queen's Park"
      ]
     },
     "execution_count": 32,
     "metadata": {},
     "output_type": "execute_result"
    }
   ],
   "source": [
    "tpc_df = pd.read_csv('tps_scrape.csv')\n",
    "tpc_df.head()"
   ]
  },
  {
   "cell_type": "code",
   "execution_count": 31,
   "metadata": {},
   "outputs": [
    {
     "data": {
      "text/plain": [
       "(103, 3)"
      ]
     },
     "execution_count": 31,
     "metadata": {},
     "output_type": "execute_result"
    }
   ],
   "source": [
    "tpc_df.shape"
   ]
  },
  {
   "cell_type": "code",
   "execution_count": null,
   "metadata": {},
   "outputs": [],
   "source": []
  }
 ],
 "metadata": {
  "kernelspec": {
   "display_name": "Python 3",
   "language": "python",
   "name": "python3"
  },
  "language_info": {
   "codemirror_mode": {
    "name": "ipython",
    "version": 3
   },
   "file_extension": ".py",
   "mimetype": "text/x-python",
   "name": "python",
   "nbconvert_exporter": "python",
   "pygments_lexer": "ipython3",
   "version": "3.6.8"
  }
 },
 "nbformat": 4,
 "nbformat_minor": 2
}
